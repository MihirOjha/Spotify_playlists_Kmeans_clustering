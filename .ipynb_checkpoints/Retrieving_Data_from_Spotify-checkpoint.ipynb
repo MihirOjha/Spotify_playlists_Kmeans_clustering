{
 "cells": [
  {
   "cell_type": "markdown",
   "metadata": {},
   "source": [
    "This is the script I used to extract the top 1000 songs from Spotify through Spotipy.\n",
    "\n",
    "Original author of the script that I owe many thanks to: [Tomigelo](https://www.kaggle.com/datasets/tomigelo/spotify-audio-features) "
   ]
  },
  {
   "cell_type": "code",
   "execution_count": null,
   "metadata": {
    "colab": {},
    "colab_type": "code",
    "id": "KrMqXbjZ2I4d"
   },
   "outputs": [],
   "source": [
    "# # installing spotipy\n",
    "# pip install spotipy -q"
   ]
  },
  {
   "cell_type": "code",
   "execution_count": 1,
   "metadata": {
    "colab": {},
    "colab_type": "code",
    "id": "pk648-iktP05"
   },
   "outputs": [],
   "source": [
    "# importing the necessary packages\n",
    "import spotipy \n",
    "sp = spotipy.Spotify() \n",
    "from spotipy.oauth2 import SpotifyClientCredentials \n",
    "import spotipy.util as util\n",
    "import sys"
   ]
  },
  {
   "cell_type": "code",
   "execution_count": 2,
   "metadata": {},
   "outputs": [],
   "source": [
    "# setting up authorization\n",
    "cid =\"your cid\" \n",
    "secret = \"your secret id\"\n",
    "\n",
    "username = 'your spotify username'\n",
    "scope = 'user-library-read' # library you want to use. the playlist\n",
    "authorization_url = 'https://accounts.spotify.com/authorize'\n",
    "token_url = 'https://accounts.spotify.com/api/token'\n",
    "client_id_rnd ='your info'\n",
    "client_secret_rnd ='your info'\n",
    "redirect_uri_rnd ='https://localhost:8888/callback'\n",
    "\n",
    "token = util.prompt_for_user_token(username,scope,client_id='your cid',client_secret='your secret id',redirect_uri='https://localhost:8888/callback')\n",
    "client_credentials_manager = SpotifyClientCredentials(client_id=cid, client_secret=secret)\n",
    "sp = spotipy.Spotify(client_credentials_manager=client_credentials_manager)"
   ]
  },
  {
   "cell_type": "code",
   "execution_count": 3,
   "metadata": {
    "colab": {
     "base_uri": "https://localhost:8080/",
     "height": 50
    },
    "colab_type": "code",
    "id": "h9bmIMAD1f11",
    "outputId": "50cff982-0a0b-4377-e35e-9f7ccee9fb79"
   },
   "outputs": [
    {
     "name": "stdout",
     "output_type": "stream",
     "text": [
      "{'access_token': 'BQAgjULm7yyPhjQ25HwM8cWVkzB2sfYkheFrlAiElL5Vwppgcm74JyHgWRT84CuVQ2RCcDOKZ5lrvXTcY1Z7EHRw9W5YteAxmA9wXBiMGWnDPCsyuWI', 'token_type': 'Bearer', 'expires_in': 3600, 'expires_at': 1672357197}\n",
      "<spotipy.client.Spotify object at 0x104c5d3a0>\n"
     ]
    },
    {
     "name": "stderr",
     "output_type": "stream",
     "text": [
      "/var/folders/69/yq7zz3n12pbgn3pfb3cs6j7m0000gn/T/ipykernel_16801/3570842763.py:7: DeprecationWarning: You're using 'as_dict = True'.get_access_token will return the token string directly in future versions. Please adjust your code accordingly, or use get_cached_token instead.\n",
      "  token = auth.get_access_token()\n"
     ]
    }
   ],
   "source": [
    "# token\n",
    "auth = SpotifyClientCredentials(\n",
    "    client_id=client_id_rnd,\n",
    "    client_secret=client_secret_rnd\n",
    ")\n",
    "\n",
    "token = auth.get_access_token()\n",
    "spotify = spotipy.Spotify(auth=token)\n",
    "print(token)\n",
    "print(spotify)\n",
    "token = \"BQCtmMF9zvFgQSb_KJ_RjfEHqjUM-J0uO-5XPDcgYOcP7kDMOHINs2T3dimcdzbokaiGXd_jK2V3fsYrHKxIofg63FzGOJj_X2c0EGkyX8ZaXlBCv9I\""
   ]
  },
  {
   "cell_type": "code",
   "execution_count": 4,
   "metadata": {
    "colab": {
     "base_uri": "https://localhost:8080/",
     "height": 33
    },
    "colab_type": "code",
    "id": "zI_yPGEItOYD",
    "outputId": "32df8ee7-74ab-4532-f9b5-9e0b30db3d93"
   },
   "outputs": [
    {
     "name": "stdout",
     "output_type": "stream",
     "text": [
      "Time to run this code (in seconds): 14.483808103000001\n"
     ]
    }
   ],
   "source": [
    "# timeit library to measure the time needed to run this code\n",
    "import timeit\n",
    "start = timeit.default_timer()\n",
    "\n",
    "# create empty lists where the results are going to be stored\n",
    "artist_name = []\n",
    "track_name = []\n",
    "popularity = []\n",
    "track_id = []\n",
    "\n",
    "for i in range(0,1000,50):\n",
    "    track_results = sp.search(q='year:2022', type='track', limit=50,offset=i)\n",
    "    for i, t in enumerate(track_results['tracks']['items']):\n",
    "        artist_name.append(t['artists'][0]['name'])\n",
    "        track_name.append(t['name'])\n",
    "        track_id.append(t['id'])\n",
    "        popularity.append(t['popularity'])\n",
    "      \n",
    "\n",
    "stop = timeit.default_timer()\n",
    "print ('Time to run this code (in seconds):', stop - start)"
   ]
  },
  {
   "cell_type": "code",
   "execution_count": 122,
   "metadata": {
    "colab": {
     "base_uri": "https://localhost:8080/",
     "height": 33
    },
    "colab_type": "code",
    "id": "l_4C33oZtZ2d",
    "outputId": "5c01540b-c00f-42dd-c45a-d23c531b3972"
   },
   "outputs": [
    {
     "name": "stdout",
     "output_type": "stream",
     "text": [
      "number of elements in the track_id list: 1000\n"
     ]
    }
   ],
   "source": [
    "# checking the results\n",
    "print('number of elements in the track_id list:', len(track_id))"
   ]
  },
  {
   "cell_type": "code",
   "execution_count": 123,
   "metadata": {
    "colab": {
     "base_uri": "https://localhost:8080/",
     "height": 214
    },
    "colab_type": "code",
    "id": "NkYAtcD7tngL",
    "outputId": "d1cfe176-f2b1-4ac5-ea3d-0805c11c6f96"
   },
   "outputs": [
    {
     "name": "stdout",
     "output_type": "stream",
     "text": [
      "(1000, 4)\n"
     ]
    },
    {
     "data": {
      "text/html": [
       "<div>\n",
       "<style scoped>\n",
       "    .dataframe tbody tr th:only-of-type {\n",
       "        vertical-align: middle;\n",
       "    }\n",
       "\n",
       "    .dataframe tbody tr th {\n",
       "        vertical-align: top;\n",
       "    }\n",
       "\n",
       "    .dataframe thead th {\n",
       "        text-align: right;\n",
       "    }\n",
       "</style>\n",
       "<table border=\"1\" class=\"dataframe\">\n",
       "  <thead>\n",
       "    <tr style=\"text-align: right;\">\n",
       "      <th></th>\n",
       "      <th>artist_name</th>\n",
       "      <th>track_name</th>\n",
       "      <th>track_id</th>\n",
       "      <th>popularity</th>\n",
       "    </tr>\n",
       "  </thead>\n",
       "  <tbody>\n",
       "    <tr>\n",
       "      <th>0</th>\n",
       "      <td>Drake</td>\n",
       "      <td>Rich Flex</td>\n",
       "      <td>1bDbXMyjaUIooNwFE9wn0N</td>\n",
       "      <td>96</td>\n",
       "    </tr>\n",
       "    <tr>\n",
       "      <th>1</th>\n",
       "      <td>SZA</td>\n",
       "      <td>Kill Bill</td>\n",
       "      <td>3OHfY25tqY28d16oZczHc8</td>\n",
       "      <td>93</td>\n",
       "    </tr>\n",
       "    <tr>\n",
       "      <th>2</th>\n",
       "      <td>Sam Smith</td>\n",
       "      <td>Unholy (feat. Kim Petras)</td>\n",
       "      <td>3nqQXoyQOWXiESFLlDF1hG</td>\n",
       "      <td>100</td>\n",
       "    </tr>\n",
       "    <tr>\n",
       "      <th>3</th>\n",
       "      <td>Taylor Swift</td>\n",
       "      <td>Anti-Hero</td>\n",
       "      <td>0V3wPSX9ygBnCm8psDIegu</td>\n",
       "      <td>97</td>\n",
       "    </tr>\n",
       "    <tr>\n",
       "      <th>4</th>\n",
       "      <td>d4vd</td>\n",
       "      <td>Romantic Homicide</td>\n",
       "      <td>1xK59OXxi2TAAAbmZK0kBL</td>\n",
       "      <td>94</td>\n",
       "    </tr>\n",
       "  </tbody>\n",
       "</table>\n",
       "</div>"
      ],
      "text/plain": [
       "    artist_name                 track_name                track_id  popularity\n",
       "0         Drake                  Rich Flex  1bDbXMyjaUIooNwFE9wn0N          96\n",
       "1           SZA                  Kill Bill  3OHfY25tqY28d16oZczHc8          93\n",
       "2     Sam Smith  Unholy (feat. Kim Petras)  3nqQXoyQOWXiESFLlDF1hG         100\n",
       "3  Taylor Swift                  Anti-Hero  0V3wPSX9ygBnCm8psDIegu          97\n",
       "4          d4vd          Romantic Homicide  1xK59OXxi2TAAAbmZK0kBL          94"
      ]
     },
     "execution_count": 123,
     "metadata": {},
     "output_type": "execute_result"
    }
   ],
   "source": [
    "# putting the data in a dataframe\n",
    "import pandas as pd\n",
    "\n",
    "df_tracks = pd.DataFrame({'artist_name':artist_name,'track_name':track_name,'track_id':track_id,'popularity':popularity})\n",
    "print(df_tracks.shape)\n",
    "df_tracks.head()"
   ]
  },
  {
   "cell_type": "code",
   "execution_count": 124,
   "metadata": {
    "colab": {
     "base_uri": "https://localhost:8080/",
     "height": 167
    },
    "colab_type": "code",
    "id": "Es2cRNaKtrYc",
    "outputId": "aaad3d0f-be47-48aa-d1d3-402dad075da9"
   },
   "outputs": [
    {
     "name": "stdout",
     "output_type": "stream",
     "text": [
      "<class 'pandas.core.frame.DataFrame'>\n",
      "RangeIndex: 1000 entries, 0 to 999\n",
      "Data columns (total 4 columns):\n",
      " #   Column       Non-Null Count  Dtype \n",
      "---  ------       --------------  ----- \n",
      " 0   artist_name  1000 non-null   object\n",
      " 1   track_name   1000 non-null   object\n",
      " 2   track_id     1000 non-null   object\n",
      " 3   popularity   1000 non-null   int64 \n",
      "dtypes: int64(1), object(3)\n",
      "memory usage: 31.4+ KB\n"
     ]
    }
   ],
   "source": [
    "# info on the dataset\n",
    "df_tracks.info()"
   ]
  },
  {
   "cell_type": "code",
   "execution_count": 125,
   "metadata": {
    "colab": {
     "base_uri": "https://localhost:8080/",
     "height": 33
    },
    "colab_type": "code",
    "id": "6eRXBcDexJDU",
    "outputId": "ca432d51-142c-4141-9d16-37833cdd7591"
   },
   "outputs": [
    {
     "data": {
      "text/plain": [
       "137"
      ]
     },
     "execution_count": 125,
     "metadata": {},
     "output_type": "execute_result"
    }
   ],
   "source": [
    "# group the entries by artist_name and track_name and check for duplicates\n",
    "\n",
    "grouped = df_tracks.groupby(['artist_name','track_name'], as_index=True).size()\n",
    "grouped[grouped > 1].count()"
   ]
  },
  {
   "cell_type": "code",
   "execution_count": 126,
   "metadata": {
    "colab": {},
    "colab_type": "code",
    "id": "JSQJPBE5BzOh"
   },
   "outputs": [],
   "source": [
    "# dropping duplicates\n",
    "df_tracks.drop_duplicates(subset=['artist_name','track_name'], inplace=True)"
   ]
  },
  {
   "cell_type": "code",
   "execution_count": 127,
   "metadata": {
    "colab": {
     "base_uri": "https://localhost:8080/",
     "height": 33
    },
    "colab_type": "code",
    "id": "JurnBK4FB3R7",
    "outputId": "ed6836bc-d5a7-4d38-fade-819adeeb6d6a"
   },
   "outputs": [
    {
     "data": {
      "text/plain": [
       "0"
      ]
     },
     "execution_count": 127,
     "metadata": {},
     "output_type": "execute_result"
    }
   ],
   "source": [
    "# doing the same grouping as before to verify the solution\n",
    "grouped_after_dropping = df_tracks.groupby(['artist_name','track_name'], as_index=True).size()\n",
    "grouped_after_dropping[grouped_after_dropping > 1].count()"
   ]
  },
  {
   "cell_type": "code",
   "execution_count": 128,
   "metadata": {
    "colab": {
     "base_uri": "https://localhost:8080/",
     "height": 100
    },
    "colab_type": "code",
    "id": "xzojGTupB6F1",
    "outputId": "7c7f5d64-33db-4103-b93a-7638327032f1"
   },
   "outputs": [
    {
     "data": {
      "text/plain": [
       "artist_name    0\n",
       "track_name     0\n",
       "track_id       0\n",
       "popularity     0\n",
       "dtype: int64"
      ]
     },
     "execution_count": 128,
     "metadata": {},
     "output_type": "execute_result"
    }
   ],
   "source": [
    "# dropping duplicates\n",
    "df_tracks[df_tracks.duplicated(subset=['artist_name','track_name'],keep=False)].count()"
   ]
  },
  {
   "cell_type": "code",
   "execution_count": 129,
   "metadata": {
    "colab": {
     "base_uri": "https://localhost:8080/",
     "height": 33
    },
    "colab_type": "code",
    "id": "AgFu-WnOB8ve",
    "outputId": "a0a272e2-bd09-410c-f3ba-119c689d5201"
   },
   "outputs": [
    {
     "data": {
      "text/plain": [
       "(742, 4)"
      ]
     },
     "execution_count": 129,
     "metadata": {},
     "output_type": "execute_result"
    }
   ],
   "source": [
    "# checking the shape of the dataframe\n",
    "df_tracks.shape"
   ]
  },
  {
   "cell_type": "code",
   "execution_count": 130,
   "metadata": {
    "colab": {
     "base_uri": "https://localhost:8080/",
     "height": 50
    },
    "colab_type": "code",
    "id": "CyOG4rbaB_Fq",
    "outputId": "38f87a0b-1b5a-41a6-c69c-fabf9f113930"
   },
   "outputs": [
    {
     "name": "stdout",
     "output_type": "stream",
     "text": [
      "Number of tracks where no audio features were available: 2\n",
      "Time to run this code (in seconds): 1.2871718370001872\n"
     ]
    }
   ],
   "source": [
    "# again measuring the time\n",
    "start = timeit.default_timer()\n",
    "\n",
    "# empty list, batchsize and the counter for None results\n",
    "rows = []\n",
    "batchsize = 100\n",
    "None_counter = 0\n",
    "\n",
    "for i in range(0,len(df_tracks['track_id']),batchsize):\n",
    "    batch = df_tracks['track_id'][i:i+batchsize]\n",
    "    feature_results = sp.audio_features(batch)\n",
    "    for i, t in enumerate(feature_results):\n",
    "        if t == None:\n",
    "            None_counter = None_counter + 1\n",
    "        else:\n",
    "            rows.append(t)\n",
    "            \n",
    "print('Number of tracks where no audio features were available:',None_counter)\n",
    "\n",
    "stop = timeit.default_timer()\n",
    "print ('Time to run this code (in seconds):',stop - start)"
   ]
  },
  {
   "cell_type": "code",
   "execution_count": 131,
   "metadata": {
    "colab": {
     "base_uri": "https://localhost:8080/",
     "height": 33
    },
    "colab_type": "code",
    "id": "jfjSDCiaCE3f",
    "outputId": "6c2e4ef6-570d-45e7-8229-3ac480e1530c"
   },
   "outputs": [
    {
     "name": "stdout",
     "output_type": "stream",
     "text": [
      "number of elements in the track_id list: 740\n"
     ]
    }
   ],
   "source": [
    "# checking the results\n",
    "print('number of elements in the track_id list:', len(rows))"
   ]
  },
  {
   "cell_type": "code",
   "execution_count": 132,
   "metadata": {
    "colab": {
     "base_uri": "https://localhost:8080/",
     "height": 317
    },
    "colab_type": "code",
    "id": "fPz8Ey7pCKdp",
    "outputId": "657c7e50-8112-461a-a4ed-4b34bdaab104"
   },
   "outputs": [
    {
     "name": "stdout",
     "output_type": "stream",
     "text": [
      "Shape of the dataset: (740, 18)\n"
     ]
    },
    {
     "data": {
      "text/html": [
       "<div>\n",
       "<style scoped>\n",
       "    .dataframe tbody tr th:only-of-type {\n",
       "        vertical-align: middle;\n",
       "    }\n",
       "\n",
       "    .dataframe tbody tr th {\n",
       "        vertical-align: top;\n",
       "    }\n",
       "\n",
       "    .dataframe thead th {\n",
       "        text-align: right;\n",
       "    }\n",
       "</style>\n",
       "<table border=\"1\" class=\"dataframe\">\n",
       "  <thead>\n",
       "    <tr style=\"text-align: right;\">\n",
       "      <th></th>\n",
       "      <th>danceability</th>\n",
       "      <th>energy</th>\n",
       "      <th>key</th>\n",
       "      <th>loudness</th>\n",
       "      <th>mode</th>\n",
       "      <th>speechiness</th>\n",
       "      <th>acousticness</th>\n",
       "      <th>instrumentalness</th>\n",
       "      <th>liveness</th>\n",
       "      <th>valence</th>\n",
       "      <th>tempo</th>\n",
       "      <th>type</th>\n",
       "      <th>id</th>\n",
       "      <th>uri</th>\n",
       "      <th>track_href</th>\n",
       "      <th>analysis_url</th>\n",
       "      <th>duration_ms</th>\n",
       "      <th>time_signature</th>\n",
       "    </tr>\n",
       "  </thead>\n",
       "  <tbody>\n",
       "    <tr>\n",
       "      <th>0</th>\n",
       "      <td>0.561</td>\n",
       "      <td>0.520</td>\n",
       "      <td>11</td>\n",
       "      <td>-9.342</td>\n",
       "      <td>0</td>\n",
       "      <td>0.2440</td>\n",
       "      <td>0.0503</td>\n",
       "      <td>0.000002</td>\n",
       "      <td>0.355</td>\n",
       "      <td>0.424</td>\n",
       "      <td>153.150</td>\n",
       "      <td>audio_features</td>\n",
       "      <td>1bDbXMyjaUIooNwFE9wn0N</td>\n",
       "      <td>spotify:track:1bDbXMyjaUIooNwFE9wn0N</td>\n",
       "      <td>https://api.spotify.com/v1/tracks/1bDbXMyjaUIo...</td>\n",
       "      <td>https://api.spotify.com/v1/audio-analysis/1bDb...</td>\n",
       "      <td>239360</td>\n",
       "      <td>3</td>\n",
       "    </tr>\n",
       "    <tr>\n",
       "      <th>1</th>\n",
       "      <td>0.644</td>\n",
       "      <td>0.728</td>\n",
       "      <td>8</td>\n",
       "      <td>-5.750</td>\n",
       "      <td>1</td>\n",
       "      <td>0.0351</td>\n",
       "      <td>0.0543</td>\n",
       "      <td>0.169000</td>\n",
       "      <td>0.161</td>\n",
       "      <td>0.430</td>\n",
       "      <td>88.993</td>\n",
       "      <td>audio_features</td>\n",
       "      <td>3OHfY25tqY28d16oZczHc8</td>\n",
       "      <td>spotify:track:3OHfY25tqY28d16oZczHc8</td>\n",
       "      <td>https://api.spotify.com/v1/tracks/3OHfY25tqY28...</td>\n",
       "      <td>https://api.spotify.com/v1/audio-analysis/3OHf...</td>\n",
       "      <td>153947</td>\n",
       "      <td>4</td>\n",
       "    </tr>\n",
       "    <tr>\n",
       "      <th>2</th>\n",
       "      <td>0.714</td>\n",
       "      <td>0.472</td>\n",
       "      <td>2</td>\n",
       "      <td>-7.375</td>\n",
       "      <td>1</td>\n",
       "      <td>0.0864</td>\n",
       "      <td>0.0130</td>\n",
       "      <td>0.000005</td>\n",
       "      <td>0.266</td>\n",
       "      <td>0.238</td>\n",
       "      <td>131.121</td>\n",
       "      <td>audio_features</td>\n",
       "      <td>3nqQXoyQOWXiESFLlDF1hG</td>\n",
       "      <td>spotify:track:3nqQXoyQOWXiESFLlDF1hG</td>\n",
       "      <td>https://api.spotify.com/v1/tracks/3nqQXoyQOWXi...</td>\n",
       "      <td>https://api.spotify.com/v1/audio-analysis/3nqQ...</td>\n",
       "      <td>156943</td>\n",
       "      <td>4</td>\n",
       "    </tr>\n",
       "    <tr>\n",
       "      <th>3</th>\n",
       "      <td>0.637</td>\n",
       "      <td>0.643</td>\n",
       "      <td>4</td>\n",
       "      <td>-6.571</td>\n",
       "      <td>1</td>\n",
       "      <td>0.0519</td>\n",
       "      <td>0.1300</td>\n",
       "      <td>0.000002</td>\n",
       "      <td>0.142</td>\n",
       "      <td>0.533</td>\n",
       "      <td>97.008</td>\n",
       "      <td>audio_features</td>\n",
       "      <td>0V3wPSX9ygBnCm8psDIegu</td>\n",
       "      <td>spotify:track:0V3wPSX9ygBnCm8psDIegu</td>\n",
       "      <td>https://api.spotify.com/v1/tracks/0V3wPSX9ygBn...</td>\n",
       "      <td>https://api.spotify.com/v1/audio-analysis/0V3w...</td>\n",
       "      <td>200690</td>\n",
       "      <td>4</td>\n",
       "    </tr>\n",
       "    <tr>\n",
       "      <th>4</th>\n",
       "      <td>0.571</td>\n",
       "      <td>0.544</td>\n",
       "      <td>6</td>\n",
       "      <td>-10.613</td>\n",
       "      <td>1</td>\n",
       "      <td>0.0299</td>\n",
       "      <td>0.4530</td>\n",
       "      <td>0.008050</td>\n",
       "      <td>0.322</td>\n",
       "      <td>0.216</td>\n",
       "      <td>132.052</td>\n",
       "      <td>audio_features</td>\n",
       "      <td>1xK59OXxi2TAAAbmZK0kBL</td>\n",
       "      <td>spotify:track:1xK59OXxi2TAAAbmZK0kBL</td>\n",
       "      <td>https://api.spotify.com/v1/tracks/1xK59OXxi2TA...</td>\n",
       "      <td>https://api.spotify.com/v1/audio-analysis/1xK5...</td>\n",
       "      <td>132631</td>\n",
       "      <td>4</td>\n",
       "    </tr>\n",
       "  </tbody>\n",
       "</table>\n",
       "</div>"
      ],
      "text/plain": [
       "   danceability  energy  key  loudness  mode  speechiness  acousticness  \\\n",
       "0         0.561   0.520   11    -9.342     0       0.2440        0.0503   \n",
       "1         0.644   0.728    8    -5.750     1       0.0351        0.0543   \n",
       "2         0.714   0.472    2    -7.375     1       0.0864        0.0130   \n",
       "3         0.637   0.643    4    -6.571     1       0.0519        0.1300   \n",
       "4         0.571   0.544    6   -10.613     1       0.0299        0.4530   \n",
       "\n",
       "   instrumentalness  liveness  valence    tempo            type  \\\n",
       "0          0.000002     0.355    0.424  153.150  audio_features   \n",
       "1          0.169000     0.161    0.430   88.993  audio_features   \n",
       "2          0.000005     0.266    0.238  131.121  audio_features   \n",
       "3          0.000002     0.142    0.533   97.008  audio_features   \n",
       "4          0.008050     0.322    0.216  132.052  audio_features   \n",
       "\n",
       "                       id                                   uri  \\\n",
       "0  1bDbXMyjaUIooNwFE9wn0N  spotify:track:1bDbXMyjaUIooNwFE9wn0N   \n",
       "1  3OHfY25tqY28d16oZczHc8  spotify:track:3OHfY25tqY28d16oZczHc8   \n",
       "2  3nqQXoyQOWXiESFLlDF1hG  spotify:track:3nqQXoyQOWXiESFLlDF1hG   \n",
       "3  0V3wPSX9ygBnCm8psDIegu  spotify:track:0V3wPSX9ygBnCm8psDIegu   \n",
       "4  1xK59OXxi2TAAAbmZK0kBL  spotify:track:1xK59OXxi2TAAAbmZK0kBL   \n",
       "\n",
       "                                          track_href  \\\n",
       "0  https://api.spotify.com/v1/tracks/1bDbXMyjaUIo...   \n",
       "1  https://api.spotify.com/v1/tracks/3OHfY25tqY28...   \n",
       "2  https://api.spotify.com/v1/tracks/3nqQXoyQOWXi...   \n",
       "3  https://api.spotify.com/v1/tracks/0V3wPSX9ygBn...   \n",
       "4  https://api.spotify.com/v1/tracks/1xK59OXxi2TA...   \n",
       "\n",
       "                                        analysis_url  duration_ms  \\\n",
       "0  https://api.spotify.com/v1/audio-analysis/1bDb...       239360   \n",
       "1  https://api.spotify.com/v1/audio-analysis/3OHf...       153947   \n",
       "2  https://api.spotify.com/v1/audio-analysis/3nqQ...       156943   \n",
       "3  https://api.spotify.com/v1/audio-analysis/0V3w...       200690   \n",
       "4  https://api.spotify.com/v1/audio-analysis/1xK5...       132631   \n",
       "\n",
       "   time_signature  \n",
       "0               3  \n",
       "1               4  \n",
       "2               4  \n",
       "3               4  \n",
       "4               4  "
      ]
     },
     "execution_count": 132,
     "metadata": {},
     "output_type": "execute_result"
    }
   ],
   "source": [
    "# putting the data in a dataframe\n",
    "df_audio_features = pd.DataFrame.from_dict(rows,orient='columns')\n",
    "print(\"Shape of the dataset:\", df_audio_features.shape)\n",
    "df_audio_features.head()"
   ]
  },
  {
   "cell_type": "code",
   "execution_count": 133,
   "metadata": {
    "colab": {
     "base_uri": "https://localhost:8080/",
     "height": 400
    },
    "colab_type": "code",
    "id": "1esJeBzMCNRj",
    "outputId": "86871ddf-d264-44e5-ef47-3f636ee067ce"
   },
   "outputs": [
    {
     "name": "stdout",
     "output_type": "stream",
     "text": [
      "<class 'pandas.core.frame.DataFrame'>\n",
      "RangeIndex: 740 entries, 0 to 739\n",
      "Data columns (total 18 columns):\n",
      " #   Column            Non-Null Count  Dtype  \n",
      "---  ------            --------------  -----  \n",
      " 0   danceability      740 non-null    float64\n",
      " 1   energy            740 non-null    float64\n",
      " 2   key               740 non-null    int64  \n",
      " 3   loudness          740 non-null    float64\n",
      " 4   mode              740 non-null    int64  \n",
      " 5   speechiness       740 non-null    float64\n",
      " 6   acousticness      740 non-null    float64\n",
      " 7   instrumentalness  740 non-null    float64\n",
      " 8   liveness          740 non-null    float64\n",
      " 9   valence           740 non-null    float64\n",
      " 10  tempo             740 non-null    float64\n",
      " 11  type              740 non-null    object \n",
      " 12  id                740 non-null    object \n",
      " 13  uri               740 non-null    object \n",
      " 14  track_href        740 non-null    object \n",
      " 15  analysis_url      740 non-null    object \n",
      " 16  duration_ms       740 non-null    int64  \n",
      " 17  time_signature    740 non-null    int64  \n",
      "dtypes: float64(9), int64(4), object(5)\n",
      "memory usage: 104.2+ KB\n"
     ]
    }
   ],
   "source": [
    "# info on the dataframe\n",
    "df_audio_features.info()"
   ]
  },
  {
   "cell_type": "code",
   "execution_count": 134,
   "metadata": {
    "colab": {
     "base_uri": "https://localhost:8080/",
     "height": 33
    },
    "colab_type": "code",
    "id": "q-5VL2jgCR9B",
    "outputId": "269ecc61-faa8-4797-9d88-4957d240dda6"
   },
   "outputs": [
    {
     "data": {
      "text/plain": [
       "(740, 14)"
      ]
     },
     "execution_count": 134,
     "metadata": {},
     "output_type": "execute_result"
    }
   ],
   "source": [
    "# dropping unnecessary columns\n",
    "columns_to_drop = ['analysis_url','track_href','type','uri']\n",
    "df_audio_features.drop(columns_to_drop, axis=1,inplace=True)\n",
    "\n",
    "df_audio_features.rename(columns={'id': 'track_id'}, inplace=True)\n",
    "\n",
    "df_audio_features.shape"
   ]
  },
  {
   "cell_type": "code",
   "execution_count": 135,
   "metadata": {
    "colab": {
     "base_uri": "https://localhost:8080/",
     "height": 367
    },
    "colab_type": "code",
    "id": "xRCNJksiCV2h",
    "outputId": "416ee5ad-12f2-4820-9577-736a2b0849c8"
   },
   "outputs": [
    {
     "name": "stdout",
     "output_type": "stream",
     "text": [
      "Shape of the dataset: (740, 14)\n"
     ]
    },
    {
     "data": {
      "text/html": [
       "<div>\n",
       "<style scoped>\n",
       "    .dataframe tbody tr th:only-of-type {\n",
       "        vertical-align: middle;\n",
       "    }\n",
       "\n",
       "    .dataframe tbody tr th {\n",
       "        vertical-align: top;\n",
       "    }\n",
       "\n",
       "    .dataframe thead th {\n",
       "        text-align: right;\n",
       "    }\n",
       "</style>\n",
       "<table border=\"1\" class=\"dataframe\">\n",
       "  <thead>\n",
       "    <tr style=\"text-align: right;\">\n",
       "      <th></th>\n",
       "      <th>artist_name</th>\n",
       "      <th>track_name</th>\n",
       "      <th>track_id</th>\n",
       "      <th>popularity</th>\n",
       "      <th>danceability</th>\n",
       "      <th>energy</th>\n",
       "      <th>key</th>\n",
       "      <th>loudness</th>\n",
       "      <th>mode</th>\n",
       "      <th>speechiness</th>\n",
       "      <th>acousticness</th>\n",
       "      <th>instrumentalness</th>\n",
       "      <th>liveness</th>\n",
       "      <th>valence</th>\n",
       "      <th>tempo</th>\n",
       "      <th>duration_ms</th>\n",
       "      <th>time_signature</th>\n",
       "    </tr>\n",
       "  </thead>\n",
       "  <tbody>\n",
       "    <tr>\n",
       "      <th>0</th>\n",
       "      <td>Drake</td>\n",
       "      <td>Rich Flex</td>\n",
       "      <td>1bDbXMyjaUIooNwFE9wn0N</td>\n",
       "      <td>96</td>\n",
       "      <td>0.561</td>\n",
       "      <td>0.520</td>\n",
       "      <td>11</td>\n",
       "      <td>-9.342</td>\n",
       "      <td>0</td>\n",
       "      <td>0.2440</td>\n",
       "      <td>0.0503</td>\n",
       "      <td>0.000002</td>\n",
       "      <td>0.355</td>\n",
       "      <td>0.4240</td>\n",
       "      <td>153.150</td>\n",
       "      <td>239360</td>\n",
       "      <td>3</td>\n",
       "    </tr>\n",
       "    <tr>\n",
       "      <th>1</th>\n",
       "      <td>SZA</td>\n",
       "      <td>Kill Bill</td>\n",
       "      <td>3OHfY25tqY28d16oZczHc8</td>\n",
       "      <td>93</td>\n",
       "      <td>0.644</td>\n",
       "      <td>0.728</td>\n",
       "      <td>8</td>\n",
       "      <td>-5.750</td>\n",
       "      <td>1</td>\n",
       "      <td>0.0351</td>\n",
       "      <td>0.0543</td>\n",
       "      <td>0.169000</td>\n",
       "      <td>0.161</td>\n",
       "      <td>0.4300</td>\n",
       "      <td>88.993</td>\n",
       "      <td>153947</td>\n",
       "      <td>4</td>\n",
       "    </tr>\n",
       "    <tr>\n",
       "      <th>2</th>\n",
       "      <td>Sam Smith</td>\n",
       "      <td>Unholy (feat. Kim Petras)</td>\n",
       "      <td>3nqQXoyQOWXiESFLlDF1hG</td>\n",
       "      <td>100</td>\n",
       "      <td>0.714</td>\n",
       "      <td>0.472</td>\n",
       "      <td>2</td>\n",
       "      <td>-7.375</td>\n",
       "      <td>1</td>\n",
       "      <td>0.0864</td>\n",
       "      <td>0.0130</td>\n",
       "      <td>0.000005</td>\n",
       "      <td>0.266</td>\n",
       "      <td>0.2380</td>\n",
       "      <td>131.121</td>\n",
       "      <td>156943</td>\n",
       "      <td>4</td>\n",
       "    </tr>\n",
       "    <tr>\n",
       "      <th>3</th>\n",
       "      <td>Taylor Swift</td>\n",
       "      <td>Anti-Hero</td>\n",
       "      <td>0V3wPSX9ygBnCm8psDIegu</td>\n",
       "      <td>97</td>\n",
       "      <td>0.637</td>\n",
       "      <td>0.643</td>\n",
       "      <td>4</td>\n",
       "      <td>-6.571</td>\n",
       "      <td>1</td>\n",
       "      <td>0.0519</td>\n",
       "      <td>0.1300</td>\n",
       "      <td>0.000002</td>\n",
       "      <td>0.142</td>\n",
       "      <td>0.5330</td>\n",
       "      <td>97.008</td>\n",
       "      <td>200690</td>\n",
       "      <td>4</td>\n",
       "    </tr>\n",
       "    <tr>\n",
       "      <th>4</th>\n",
       "      <td>d4vd</td>\n",
       "      <td>Romantic Homicide</td>\n",
       "      <td>1xK59OXxi2TAAAbmZK0kBL</td>\n",
       "      <td>94</td>\n",
       "      <td>0.571</td>\n",
       "      <td>0.544</td>\n",
       "      <td>6</td>\n",
       "      <td>-10.613</td>\n",
       "      <td>1</td>\n",
       "      <td>0.0299</td>\n",
       "      <td>0.4530</td>\n",
       "      <td>0.008050</td>\n",
       "      <td>0.322</td>\n",
       "      <td>0.2160</td>\n",
       "      <td>132.052</td>\n",
       "      <td>132631</td>\n",
       "      <td>4</td>\n",
       "    </tr>\n",
       "    <tr>\n",
       "      <th>...</th>\n",
       "      <td>...</td>\n",
       "      <td>...</td>\n",
       "      <td>...</td>\n",
       "      <td>...</td>\n",
       "      <td>...</td>\n",
       "      <td>...</td>\n",
       "      <td>...</td>\n",
       "      <td>...</td>\n",
       "      <td>...</td>\n",
       "      <td>...</td>\n",
       "      <td>...</td>\n",
       "      <td>...</td>\n",
       "      <td>...</td>\n",
       "      <td>...</td>\n",
       "      <td>...</td>\n",
       "      <td>...</td>\n",
       "      <td>...</td>\n",
       "    </tr>\n",
       "    <tr>\n",
       "      <th>65</th>\n",
       "      <td>Metro Boomin</td>\n",
       "      <td>Niagara Falls (Foot or 2) [with Travis Scott &amp;...</td>\n",
       "      <td>4WuOWVnAqvEQxgSRrspBgt</td>\n",
       "      <td>86</td>\n",
       "      <td>0.671</td>\n",
       "      <td>0.658</td>\n",
       "      <td>2</td>\n",
       "      <td>-5.567</td>\n",
       "      <td>1</td>\n",
       "      <td>0.3090</td>\n",
       "      <td>0.1890</td>\n",
       "      <td>0.000087</td>\n",
       "      <td>0.147</td>\n",
       "      <td>0.2570</td>\n",
       "      <td>87.933</td>\n",
       "      <td>207307</td>\n",
       "      <td>4</td>\n",
       "    </tr>\n",
       "    <tr>\n",
       "      <th>66</th>\n",
       "      <td>Taylor Swift</td>\n",
       "      <td>Karma</td>\n",
       "      <td>7KokYm8cMIXCsGVmUvKtqf</td>\n",
       "      <td>87</td>\n",
       "      <td>0.642</td>\n",
       "      <td>0.620</td>\n",
       "      <td>8</td>\n",
       "      <td>-7.091</td>\n",
       "      <td>1</td>\n",
       "      <td>0.0666</td>\n",
       "      <td>0.0734</td>\n",
       "      <td>0.000000</td>\n",
       "      <td>0.483</td>\n",
       "      <td>0.0969</td>\n",
       "      <td>90.020</td>\n",
       "      <td>204852</td>\n",
       "      <td>4</td>\n",
       "    </tr>\n",
       "    <tr>\n",
       "      <th>67</th>\n",
       "      <td>Brent Faiyaz</td>\n",
       "      <td>ALL MINE</td>\n",
       "      <td>3XgGQ1wjo5khvq2UImjyNF</td>\n",
       "      <td>83</td>\n",
       "      <td>0.617</td>\n",
       "      <td>0.378</td>\n",
       "      <td>9</td>\n",
       "      <td>-8.540</td>\n",
       "      <td>1</td>\n",
       "      <td>0.0315</td>\n",
       "      <td>0.4280</td>\n",
       "      <td>0.000092</td>\n",
       "      <td>0.110</td>\n",
       "      <td>0.2200</td>\n",
       "      <td>141.967</td>\n",
       "      <td>216063</td>\n",
       "      <td>4</td>\n",
       "    </tr>\n",
       "    <tr>\n",
       "      <th>68</th>\n",
       "      <td>Taylor Swift</td>\n",
       "      <td>Snow On The Beach (feat. Lana Del Rey)</td>\n",
       "      <td>1wtOxkiel43cVs0Yux5Q4h</td>\n",
       "      <td>88</td>\n",
       "      <td>0.663</td>\n",
       "      <td>0.319</td>\n",
       "      <td>9</td>\n",
       "      <td>-13.481</td>\n",
       "      <td>1</td>\n",
       "      <td>0.0375</td>\n",
       "      <td>0.6900</td>\n",
       "      <td>0.000993</td>\n",
       "      <td>0.117</td>\n",
       "      <td>0.1930</td>\n",
       "      <td>109.957</td>\n",
       "      <td>256124</td>\n",
       "      <td>4</td>\n",
       "    </tr>\n",
       "    <tr>\n",
       "      <th>69</th>\n",
       "      <td>Bad Bunny</td>\n",
       "      <td>Moscow Mule</td>\n",
       "      <td>6Xom58OOXk2SoU711L2IXO</td>\n",
       "      <td>92</td>\n",
       "      <td>0.804</td>\n",
       "      <td>0.674</td>\n",
       "      <td>5</td>\n",
       "      <td>-5.453</td>\n",
       "      <td>0</td>\n",
       "      <td>0.0333</td>\n",
       "      <td>0.2940</td>\n",
       "      <td>0.000001</td>\n",
       "      <td>0.115</td>\n",
       "      <td>0.2920</td>\n",
       "      <td>99.968</td>\n",
       "      <td>245940</td>\n",
       "      <td>4</td>\n",
       "    </tr>\n",
       "  </tbody>\n",
       "</table>\n",
       "<p>70 rows × 17 columns</p>\n",
       "</div>"
      ],
      "text/plain": [
       "     artist_name                                         track_name  \\\n",
       "0          Drake                                          Rich Flex   \n",
       "1            SZA                                          Kill Bill   \n",
       "2      Sam Smith                          Unholy (feat. Kim Petras)   \n",
       "3   Taylor Swift                                          Anti-Hero   \n",
       "4           d4vd                                  Romantic Homicide   \n",
       "..           ...                                                ...   \n",
       "65  Metro Boomin  Niagara Falls (Foot or 2) [with Travis Scott &...   \n",
       "66  Taylor Swift                                              Karma   \n",
       "67  Brent Faiyaz                                           ALL MINE   \n",
       "68  Taylor Swift             Snow On The Beach (feat. Lana Del Rey)   \n",
       "69     Bad Bunny                                        Moscow Mule   \n",
       "\n",
       "                  track_id  popularity  danceability  energy  key  loudness  \\\n",
       "0   1bDbXMyjaUIooNwFE9wn0N          96         0.561   0.520   11    -9.342   \n",
       "1   3OHfY25tqY28d16oZczHc8          93         0.644   0.728    8    -5.750   \n",
       "2   3nqQXoyQOWXiESFLlDF1hG         100         0.714   0.472    2    -7.375   \n",
       "3   0V3wPSX9ygBnCm8psDIegu          97         0.637   0.643    4    -6.571   \n",
       "4   1xK59OXxi2TAAAbmZK0kBL          94         0.571   0.544    6   -10.613   \n",
       "..                     ...         ...           ...     ...  ...       ...   \n",
       "65  4WuOWVnAqvEQxgSRrspBgt          86         0.671   0.658    2    -5.567   \n",
       "66  7KokYm8cMIXCsGVmUvKtqf          87         0.642   0.620    8    -7.091   \n",
       "67  3XgGQ1wjo5khvq2UImjyNF          83         0.617   0.378    9    -8.540   \n",
       "68  1wtOxkiel43cVs0Yux5Q4h          88         0.663   0.319    9   -13.481   \n",
       "69  6Xom58OOXk2SoU711L2IXO          92         0.804   0.674    5    -5.453   \n",
       "\n",
       "    mode  speechiness  acousticness  instrumentalness  liveness  valence  \\\n",
       "0      0       0.2440        0.0503          0.000002     0.355   0.4240   \n",
       "1      1       0.0351        0.0543          0.169000     0.161   0.4300   \n",
       "2      1       0.0864        0.0130          0.000005     0.266   0.2380   \n",
       "3      1       0.0519        0.1300          0.000002     0.142   0.5330   \n",
       "4      1       0.0299        0.4530          0.008050     0.322   0.2160   \n",
       "..   ...          ...           ...               ...       ...      ...   \n",
       "65     1       0.3090        0.1890          0.000087     0.147   0.2570   \n",
       "66     1       0.0666        0.0734          0.000000     0.483   0.0969   \n",
       "67     1       0.0315        0.4280          0.000092     0.110   0.2200   \n",
       "68     1       0.0375        0.6900          0.000993     0.117   0.1930   \n",
       "69     0       0.0333        0.2940          0.000001     0.115   0.2920   \n",
       "\n",
       "      tempo  duration_ms  time_signature  \n",
       "0   153.150       239360               3  \n",
       "1    88.993       153947               4  \n",
       "2   131.121       156943               4  \n",
       "3    97.008       200690               4  \n",
       "4   132.052       132631               4  \n",
       "..      ...          ...             ...  \n",
       "65   87.933       207307               4  \n",
       "66   90.020       204852               4  \n",
       "67  141.967       216063               4  \n",
       "68  109.957       256124               4  \n",
       "69   99.968       245940               4  \n",
       "\n",
       "[70 rows x 17 columns]"
      ]
     },
     "execution_count": 135,
     "metadata": {},
     "output_type": "execute_result"
    }
   ],
   "source": [
    "# merge both dataframes\n",
    "# the 'inner' method will make sure that we only keep track IDs present in both datasets\n",
    "df = pd.merge(df_tracks,df_audio_features,on='track_id',how='inner')\n",
    "print(\"Shape of the dataset:\", df_audio_features.shape)\n",
    "df.head(70)"
   ]
  },
  {
   "cell_type": "code",
   "execution_count": 136,
   "metadata": {
    "colab": {
     "base_uri": "https://localhost:8080/",
     "height": 383
    },
    "colab_type": "code",
    "id": "tkOgMFGyCbkM",
    "outputId": "6d47102e-0ee1-486a-a3ba-d345879146ca"
   },
   "outputs": [
    {
     "name": "stdout",
     "output_type": "stream",
     "text": [
      "<class 'pandas.core.frame.DataFrame'>\n",
      "Int64Index: 740 entries, 0 to 739\n",
      "Data columns (total 17 columns):\n",
      " #   Column            Non-Null Count  Dtype  \n",
      "---  ------            --------------  -----  \n",
      " 0   artist_name       740 non-null    object \n",
      " 1   track_name        740 non-null    object \n",
      " 2   track_id          740 non-null    object \n",
      " 3   popularity        740 non-null    int64  \n",
      " 4   danceability      740 non-null    float64\n",
      " 5   energy            740 non-null    float64\n",
      " 6   key               740 non-null    int64  \n",
      " 7   loudness          740 non-null    float64\n",
      " 8   mode              740 non-null    int64  \n",
      " 9   speechiness       740 non-null    float64\n",
      " 10  acousticness      740 non-null    float64\n",
      " 11  instrumentalness  740 non-null    float64\n",
      " 12  liveness          740 non-null    float64\n",
      " 13  valence           740 non-null    float64\n",
      " 14  tempo             740 non-null    float64\n",
      " 15  duration_ms       740 non-null    int64  \n",
      " 16  time_signature    740 non-null    int64  \n",
      "dtypes: float64(9), int64(5), object(3)\n",
      "memory usage: 104.1+ KB\n"
     ]
    }
   ],
   "source": [
    "# info on the merge dataframe\n",
    "df.info()"
   ]
  },
  {
   "cell_type": "code",
   "execution_count": 137,
   "metadata": {
    "colab": {
     "base_uri": "https://localhost:8080/",
     "height": 47
    },
    "colab_type": "code",
    "id": "vEOtpg2KCgjG",
    "outputId": "1252b8a0-24fc-49b1-f0a0-d204a6a73311"
   },
   "outputs": [
    {
     "data": {
      "text/html": [
       "<div>\n",
       "<style scoped>\n",
       "    .dataframe tbody tr th:only-of-type {\n",
       "        vertical-align: middle;\n",
       "    }\n",
       "\n",
       "    .dataframe tbody tr th {\n",
       "        vertical-align: top;\n",
       "    }\n",
       "\n",
       "    .dataframe thead th {\n",
       "        text-align: right;\n",
       "    }\n",
       "</style>\n",
       "<table border=\"1\" class=\"dataframe\">\n",
       "  <thead>\n",
       "    <tr style=\"text-align: right;\">\n",
       "      <th></th>\n",
       "      <th>artist_name</th>\n",
       "      <th>track_name</th>\n",
       "      <th>track_id</th>\n",
       "      <th>popularity</th>\n",
       "      <th>danceability</th>\n",
       "      <th>energy</th>\n",
       "      <th>key</th>\n",
       "      <th>loudness</th>\n",
       "      <th>mode</th>\n",
       "      <th>speechiness</th>\n",
       "      <th>acousticness</th>\n",
       "      <th>instrumentalness</th>\n",
       "      <th>liveness</th>\n",
       "      <th>valence</th>\n",
       "      <th>tempo</th>\n",
       "      <th>duration_ms</th>\n",
       "      <th>time_signature</th>\n",
       "    </tr>\n",
       "  </thead>\n",
       "  <tbody>\n",
       "  </tbody>\n",
       "</table>\n",
       "</div>"
      ],
      "text/plain": [
       "Empty DataFrame\n",
       "Columns: [artist_name, track_name, track_id, popularity, danceability, energy, key, loudness, mode, speechiness, acousticness, instrumentalness, liveness, valence, tempo, duration_ms, time_signature]\n",
       "Index: []"
      ]
     },
     "execution_count": 137,
     "metadata": {},
     "output_type": "execute_result"
    }
   ],
   "source": [
    "df[df.duplicated(subset=['artist_name','track_name'],keep=False)]"
   ]
  },
  {
   "cell_type": "code",
   "execution_count": 138,
   "metadata": {
    "colab": {},
    "colab_type": "code",
    "id": "xr_0tE3QCj-O"
   },
   "outputs": [],
   "source": [
    "# creating a csv file\n",
    "df.to_csv('spotify_data_2022.csv')"
   ]
  },
  {
   "cell_type": "code",
   "execution_count": null,
   "metadata": {
    "colab": {},
    "colab_type": "code",
    "id": "M3lO_HXXCpLM"
   },
   "outputs": [],
   "source": []
  },
  {
   "cell_type": "code",
   "execution_count": 67,
   "metadata": {
    "colab": {},
    "colab_type": "code",
    "id": "4GxXayUcDBqa"
   },
   "outputs": [],
   "source": [
    "# # downloading the csv file\n",
    "# files.download(\"spotify_data.csv\")"
   ]
  },
  {
   "cell_type": "code",
   "execution_count": null,
   "metadata": {},
   "outputs": [],
   "source": []
  }
 ],
 "metadata": {
  "colab": {
   "collapsed_sections": [],
   "include_colab_link": true,
   "name": "Retrieving Data from Spotify",
   "provenance": []
  },
  "kernelspec": {
   "display_name": "Python 3 (ipykernel)",
   "language": "python",
   "name": "python3"
  },
  "language_info": {
   "codemirror_mode": {
    "name": "ipython",
    "version": 3
   },
   "file_extension": ".py",
   "mimetype": "text/x-python",
   "name": "python",
   "nbconvert_exporter": "python",
   "pygments_lexer": "ipython3",
   "version": "3.9.12"
  },
  "toc": {
   "base_numbering": 1,
   "nav_menu": {},
   "number_sections": true,
   "sideBar": true,
   "skip_h1_title": false,
   "title_cell": "Table of Contents",
   "title_sidebar": "Contents",
   "toc_cell": false,
   "toc_position": {},
   "toc_section_display": true,
   "toc_window_display": false
  },
  "varInspector": {
   "cols": {
    "lenName": 16,
    "lenType": 16,
    "lenVar": 40
   },
   "kernels_config": {
    "python": {
     "delete_cmd_postfix": "",
     "delete_cmd_prefix": "del ",
     "library": "var_list.py",
     "varRefreshCmd": "print(var_dic_list())"
    },
    "r": {
     "delete_cmd_postfix": ") ",
     "delete_cmd_prefix": "rm(",
     "library": "var_list.r",
     "varRefreshCmd": "cat(var_dic_list()) "
    }
   },
   "types_to_exclude": [
    "module",
    "function",
    "builtin_function_or_method",
    "instance",
    "_Feature"
   ],
   "window_display": false
  }
 },
 "nbformat": 4,
 "nbformat_minor": 1
}
